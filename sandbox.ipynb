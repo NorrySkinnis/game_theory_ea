{
 "cells": [
  {
   "cell_type": "code",
   "execution_count": 1,
   "id": "8e4c6250",
   "metadata": {},
   "outputs": [],
   "source": [
    "# Generic imports\n",
    "import numpy as np \n",
    "import matplotlib.pyplot as plt"
   ]
  },
  {
   "cell_type": "code",
   "execution_count": 2,
   "id": "cac7603e",
   "metadata": {},
   "outputs": [],
   "source": [
    "# The players\n",
    "class Player:\n",
    "    \n",
    "    def __init__(self, identifier):\n",
    "        \n",
    "        self.identifier = identifier \n",
    "        self.history = []\n",
    "        self.rewards = []\n",
    "        \n",
    "    \n",
    "    def act():\n",
    "        pass\n",
    "    \n",
    "    def append_history(action):\n",
    "        self.history.append(action)\n",
    "        \n",
    "    def append_rewards(reward):\n",
    "        self.rewards.append(reward)\n",
    "    \n",
    "    "
   ]
  },
  {
   "cell_type": "code",
   "execution_count": 3,
   "id": "bf160cfb",
   "metadata": {},
   "outputs": [],
   "source": [
    "# The environment\n",
    "class Environment:\n",
    "\n",
    "    def __init__(self, player, game):\n",
    "        \n",
    "        self.player = player\n",
    "        self.game = game"
   ]
  },
  {
   "cell_type": "code",
   "execution_count": 4,
   "id": "343fcf45",
   "metadata": {},
   "outputs": [],
   "source": [
    "# Game played\n",
    "class PrisonersDilemma:\n",
    "\n",
    "    def __init__(self, payoff_matrix):\n",
    "        \n",
    "        self.payoff_matrix = payoff_matrix\n",
    "        self.actions = ['C', 'D']\n",
    "        \n",
    "    def simulate(self, p1, p2, n_rounds):\n",
    "        \n",
    "        for n in range(n_rounds):\n",
    "            \n",
    "            a1 = p1.act(p2.history)\n",
    "            a2 = p2.act(p1.history)\n",
    "            p1.append_history(a1)\n",
    "            p2.append_history(a2)\n",
    "            r1, r2 = self.payoff_matrix[a1,a2]\n",
    "            p1.append_rewards(r1)\n",
    "            p2.append_rewards(r2)         "
   ]
  },
  {
   "cell_type": "code",
   "execution_count": 55,
   "id": "ca963547",
   "metadata": {},
   "outputs": [],
   "source": [
    "# Class for basic mlp \n",
    "class MLP:\n",
    "\n",
    "    def __init__(self, n_input, n_hidden, activation=lambda x: np.maximum(0,x)):\n",
    "        \n",
    "        self.W1 = np.random.normal(loc=0, scale=1, size=(n_input, n_hidden))\n",
    "        self.W2 = np.random.normal(loc=0, scale=1, size=(n_hidden, 1))\n",
    "        self.f1 = activation\n",
    "        self.f2 = lambda x: 1/(1 + np.exp(-x))\n",
    "    \n",
    "    def forward(self, X):\n",
    "        output = self.f2(self.f1(X @ self.W1) @ self.W2)\n",
    "        output = np.array(output >= 0.5, dtype=bool).reshape(output.shape[0],) * 1\n",
    "        return output\n",
    "         \n",
    "    def get_weights(self):\n",
    "        return self.W1, self.W2\n",
    "    \n",
    "    def set_W1(self, W1):\n",
    "        self.W1 = W1\n",
    "        \n",
    "    def set_W2(self, W2):\n",
    "        self.W2 = W2    "
   ]
  },
  {
   "cell_type": "code",
   "execution_count": null,
   "id": "3c6c8d7d",
   "metadata": {},
   "outputs": [],
   "source": []
  },
  {
   "cell_type": "code",
   "execution_count": null,
   "id": "4d092c9f",
   "metadata": {},
   "outputs": [],
   "source": []
  },
  {
   "cell_type": "code",
   "execution_count": null,
   "id": "55cbb3d9",
   "metadata": {},
   "outputs": [],
   "source": []
  },
  {
   "cell_type": "code",
   "execution_count": null,
   "id": "a17d298c",
   "metadata": {},
   "outputs": [],
   "source": []
  }
 ],
 "metadata": {
  "kernelspec": {
   "display_name": "Python 3 (ipykernel)",
   "language": "python",
   "name": "python3"
  },
  "language_info": {
   "codemirror_mode": {
    "name": "ipython",
    "version": 3
   },
   "file_extension": ".py",
   "mimetype": "text/x-python",
   "name": "python",
   "nbconvert_exporter": "python",
   "pygments_lexer": "ipython3",
   "version": "3.10.9"
  }
 },
 "nbformat": 4,
 "nbformat_minor": 5
}
