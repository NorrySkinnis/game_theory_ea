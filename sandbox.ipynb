{
 "cells": [
  {
   "cell_type": "code",
   "execution_count": 1,
   "id": "8e4c6250",
   "metadata": {},
   "outputs": [],
   "source": [
    "# Generic imports\n",
    "import numpy as np \n",
    "import matplotlib.pyplot as plt"
   ]
  },
  {
   "cell_type": "code",
   "execution_count": 2,
   "id": "12310d21",
   "metadata": {},
   "outputs": [],
   "source": [
    "# How to allow for players with different memory capacity to play the game and reproduce?\n",
    "# Are memory and reasoning decoupled? \n",
    "# If we add a history of oppenents a player played against should there be a separate memory capacity for that?"
   ]
  },
  {
   "cell_type": "code",
   "execution_count": 21,
   "id": "cac7603e",
   "metadata": {},
   "outputs": [],
   "source": [
    "class Player:\n",
    "    \n",
    "    def __init__(self, identifier, memory_capacity):      \n",
    "        self.identifier = identifier\n",
    "        self.brain = MLP(n_input=memory_capacity, n_hidden=4)\n",
    "        self.history = []\n",
    "        self.rewards = []\n",
    "        self.opponents = []\n",
    "        \n",
    "    def act(self, opponent_history):        \n",
    "        a = self.brain.forward(opponent_history)\n",
    "        return a\n",
    "    \n",
    "    def get_history(self):\n",
    "        return self.history\n",
    "        \n",
    "    def append_history(self, action):       \n",
    "        self.history.append(action)\n",
    "        \n",
    "    def append_rewards(self, reward):   \n",
    "        self.rewards.append(reward)\n",
    "        \n",
    "    def reset_history(self):     \n",
    "        self.history = []  \n",
    "    \n",
    "    def get_id(self):   \n",
    "        return self.identifier\n",
    "    \n",
    "    def get_opponents(self):\n",
    "        return self.opponents"
   ]
  },
  {
   "cell_type": "code",
   "execution_count": 22,
   "id": "ca963547",
   "metadata": {},
   "outputs": [],
   "source": [
    "class MLP:\n",
    "\n",
    "    def __init__(self, n_input, n_hidden, activation=lambda x: np.maximum(0,x)): \n",
    "        self.W1 = np.random.normal(loc=0, scale=2, size=(n_input, n_hidden))\n",
    "        self.W2 = np.random.normal(loc=0, scale=2, size=(n_hidden, 1))\n",
    "        self.f1 = activation\n",
    "    \n",
    "    def forward(self, X):  \n",
    "        X = np.array(X)\n",
    "        if len(X.shape) == 1: \n",
    "            X = np.reshape(X, (1, X.shape[0]))\n",
    "    \n",
    "        n = X.shape[1]\n",
    "        m = self.W1.shape[0]\n",
    "        \n",
    "        if n < m:\n",
    "            X = np.hstack((np.random.randint(2, size=(X.shape[0], m-n)), X))\n",
    "        else:\n",
    "            X = X[:,-m:]\n",
    "        \n",
    "        output = self.f1(X @ self.W1) @ self.W2\n",
    "        output = np.array(output >= 0, dtype=bool).reshape(output.shape[0],) * 1\n",
    "        return output\n",
    "         \n",
    "    def get_weights(self):   \n",
    "        return self.W1, self.W2\n",
    "    \n",
    "    def set_W1(self, W1):       \n",
    "        self.W1 = W1\n",
    "        \n",
    "    def set_W2(self, W2):   \n",
    "        self.W2 = W2    "
   ]
  },
  {
   "cell_type": "code",
   "execution_count": 23,
   "id": "5f15f47f",
   "metadata": {},
   "outputs": [],
   "source": [
    "class PrisonersDilemma:\n",
    "\n",
    "    def __init__(self, payoff_matrix):\n",
    "        self.payoff_matrix = payoff_matrix\n",
    "        self.actions = ['C', 'D']\n",
    "        \n",
    "    def simulate2(self, p1, p2, n_games):\n",
    "        for n in range(n_games):          \n",
    "            a1 = p1.act(p2.get_history())\n",
    "            a2 = p2.act(p1.get_history())\n",
    "            p1.append_history(a1[0])\n",
    "            p2.append_history(a2[0])\n",
    "            r = self.payoff_matrix[a1[0]][a2[0]]\n",
    "            p1.append_rewards(r[0])\n",
    "            p2.append_rewards(r[1])  \n",
    "            \n",
    "        # reset player history?\n",
    "    \n",
    "    # Extremely tricky to parallelize, might be worth it though   \n",
    "    def simulate(self, player, opponents, n_games):   \n",
    "        o_histories = []\n",
    "        o_actions = []\n",
    "        for game_i in range(n_games):\n",
    "            for i, o in enumerate(opponents):    \n",
    "                o_histories.append(o.get_history()[0]) # can just index the first history cause deterministic actions\n",
    "                a = o.act(player.get_history()[i])\n",
    "                o.append_history(a)\n",
    "                o_actions.append(a)\n",
    "            p_actions = player.act(o_histories)\n",
    "            # cannot slice list, have to find better way to append player history \n",
    "            \n",
    "            \n",
    "    def to_action(p_history): \n",
    "        history = p_history.copy()\n",
    "        for i, a in enumerate(history):          \n",
    "            history[i] = self.actions[history[i]]        \n",
    "        return history  "
   ]
  },
  {
   "cell_type": "code",
   "execution_count": 20,
   "id": "6687e646",
   "metadata": {},
   "outputs": [],
   "source": [
    "class Environment:\n",
    "\n",
    "    def __init__(self, players, game, fitness=lambda x: np.sum(x)):   \n",
    "        self.players = players\n",
    "        self.game = game\n",
    "        self.fitness = fitness \n",
    "    \n",
    "    def evolve(self, n_games, n_matchups, n_generations):     \n",
    "        for p in self.players:\n",
    "            opponents = sample_opponents(p, self.players, n_matchups)\n",
    "            self.game.simulate(p, opponents, n_games)\n",
    "        pass\n",
    "    \n",
    "    def sample_opponents(player, players, n_matchups):\n",
    "        opponents = []\n",
    "        n_matchups_played = len(player.get_opponents())\n",
    "        n_matchups_remain = n_matchups - n_matchups_played\n",
    "        while len(opponents) < n_matchups_remain:\n",
    "            opponent_id = np.random.randint(len(players))\n",
    "            if opponent_id == player.get_id():\n",
    "                continue\n",
    "            opponents.append(players[opponent_id])\n",
    "        return opponents"
   ]
  },
  {
   "cell_type": "code",
   "execution_count": 10,
   "id": "0f247d23",
   "metadata": {},
   "outputs": [],
   "source": [
    "players = [Player(identifier=i, memory_capacity=3) for i in range(10)]\n",
    "game = PrisonersDilemma(payoff_matrix=[[(3,3), (1,5)], [(5,1), (2,2)]])\n",
    "env = Environment(players=players, game=game)"
   ]
  },
  {
   "cell_type": "code",
   "execution_count": 18,
   "id": "300bb935",
   "metadata": {},
   "outputs": [
    {
     "name": "stdout",
     "output_type": "stream",
     "text": [
      "9\n",
      "9\n",
      "7\n",
      "8\n",
      "1\n",
      "4\n",
      "9\n",
      "9\n",
      "3\n",
      "3\n"
     ]
    }
   ],
   "source": []
  },
  {
   "cell_type": "code",
   "execution_count": 14,
   "id": "3c6c8d7d",
   "metadata": {},
   "outputs": [],
   "source": [
    "p1 = Player(identifier=1, memory_capacity=3)\n",
    "p2 = Player(identifier=2, memory_capacity=3)"
   ]
  },
  {
   "cell_type": "code",
   "execution_count": null,
   "id": "4d092c9f",
   "metadata": {},
   "outputs": [],
   "source": [
    "pm = [[(3,3), (1,5)], [(5,1), (2,2)]]\n",
    "game = PrisonersDilemma(payoff_matrix=pm)"
   ]
  },
  {
   "cell_type": "code",
   "execution_count": null,
   "id": "55cbb3d9",
   "metadata": {},
   "outputs": [],
   "source": [
    "game.simulate(p1, p2, 10)"
   ]
  },
  {
   "cell_type": "code",
   "execution_count": null,
   "id": "8cd57d34",
   "metadata": {},
   "outputs": [],
   "source": [
    "print(p1.history)\n",
    "print(p2.history)"
   ]
  },
  {
   "cell_type": "code",
   "execution_count": null,
   "id": "5938e601",
   "metadata": {},
   "outputs": [],
   "source": [
    "print(p2.rewards)"
   ]
  },
  {
   "cell_type": "code",
   "execution_count": null,
   "id": "9fb3c09a",
   "metadata": {},
   "outputs": [],
   "source": []
  }
 ],
 "metadata": {
  "kernelspec": {
   "display_name": "Python 3 (ipykernel)",
   "language": "python",
   "name": "python3"
  },
  "language_info": {
   "codemirror_mode": {
    "name": "ipython",
    "version": 3
   },
   "file_extension": ".py",
   "mimetype": "text/x-python",
   "name": "python",
   "nbconvert_exporter": "python",
   "pygments_lexer": "ipython3",
   "version": "3.9.13"
  }
 },
 "nbformat": 4,
 "nbformat_minor": 5
}
