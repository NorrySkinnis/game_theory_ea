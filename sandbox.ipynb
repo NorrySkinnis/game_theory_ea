{
 "cells": [
  {
   "cell_type": "code",
   "execution_count": 1,
   "id": "8e4c6250",
   "metadata": {},
   "outputs": [],
   "source": [
    "# Generic imports\n",
    "import numpy as np \n",
    "import matplotlib.pyplot as plt"
   ]
  },
  {
   "cell_type": "code",
   "execution_count": 2,
   "id": "a5538d1c",
   "metadata": {},
   "outputs": [],
   "source": [
    "# How to allow for players with different memory capacity to play the game and reproduce?\n",
    "# Are memory and reasoning decoupled? \n",
    "# If we add a history of oppenents a player played against should there be a separate memory capacity for that?"
   ]
  },
  {
   "cell_type": "code",
   "execution_count": 3,
   "id": "cac7603e",
   "metadata": {},
   "outputs": [],
   "source": [
    "class Player:\n",
    "    \n",
    "    def __init__(self, identifier, memory_capacity):\n",
    "        \n",
    "        self.identifier = identifier\n",
    "        self.brain = MLP(n_input=memory_capacity, n_hidden=4)\n",
    "        self.history = []\n",
    "        self.rewards = []\n",
    "        \n",
    "    def act(self, opponent_history):\n",
    "        \n",
    "        a = self.brain.forward(opponent_history)\n",
    "        return a\n",
    "        \n",
    "    def append_history(self, action):\n",
    "        self.history.append(action)\n",
    "        \n",
    "    def append_rewards(self, reward):\n",
    "        self.rewards.append(reward)\n",
    "        \n",
    "    def reset_history(self):\n",
    "        self.history = []  "
   ]
  },
  {
   "cell_type": "code",
   "execution_count": 4,
   "id": "bf160cfb",
   "metadata": {},
   "outputs": [],
   "source": [
    "class Environment:\n",
    "\n",
    "    def __init__(self, player, game):\n",
    "        \n",
    "        self.player = player\n",
    "        self.game = game"
   ]
  },
  {
   "cell_type": "code",
   "execution_count": 5,
   "id": "343fcf45",
   "metadata": {},
   "outputs": [],
   "source": [
    "class PrisonersDilemma:\n",
    "\n",
    "    def __init__(self, payoff_matrix):\n",
    "        \n",
    "        self.payoff_matrix = payoff_matrix\n",
    "        self.actions = ['C', 'D']\n",
    "        \n",
    "    def simulate(self, p1, p2, n_rounds):  \n",
    "        \n",
    "        for n in range(n_rounds): \n",
    "            \n",
    "            a1 = p1.act(p2.history)\n",
    "            a2 = p2.act(p1.history)\n",
    "            p1.append_history(a1[0])\n",
    "            p2.append_history(a2[0])\n",
    "            r = self.payoff_matrix[a1[0]][a2[0]]\n",
    "            p1.append_rewards(r[0])\n",
    "            p2.append_rewards(r[1])  \n",
    "            \n",
    "        # reset player history?\n",
    "    \n",
    "    def to_action(p_history):\n",
    "        \n",
    "        history = p_history.copy()\n",
    "        for i, a in enumerate(history):          \n",
    "            history[i] = self.actions[history[i]]   \n",
    "            \n",
    "        return history         "
   ]
  },
  {
   "cell_type": "code",
   "execution_count": 6,
   "id": "ca963547",
   "metadata": {},
   "outputs": [],
   "source": [
    "class MLP:\n",
    "\n",
    "    def __init__(self, n_input, n_hidden, activation=lambda x: np.maximum(0,x)):\n",
    "        \n",
    "        self.W1 = np.random.normal(loc=-1, scale=2, size=(n_input, n_hidden))\n",
    "        self.W2 = np.random.normal(loc=1, scale=2, size=(n_hidden, 1))\n",
    "        self.f1 = activation\n",
    "        self.f2 = lambda x: 1/(1 + np.exp(-x))\n",
    "    \n",
    "    def forward(self, X):\n",
    "        \n",
    "        X = np.array(X)\n",
    "        \n",
    "        if len(X.shape) == 1: \n",
    "            X = np.reshape(X, (1, X.shape[0]))\n",
    "    \n",
    "        n = X.shape[1]\n",
    "        m = self.W1.shape[0]\n",
    "        \n",
    "        if n < m:\n",
    "            X = np.hstack((np.random.randint(2, size=(X.shape[0], m-n)), X))\n",
    "        \n",
    "        else:\n",
    "            X = X[:,-m:]\n",
    "        \n",
    "        output = self.f2(self.f1(X @ self.W1) @ self.W2)\n",
    "        output = np.array(output >= 0.5, dtype=bool).reshape(output.shape[0],) * 1\n",
    "        return output\n",
    "         \n",
    "    def get_weights(self):\n",
    "        \n",
    "        return self.W1, self.W2\n",
    "    \n",
    "    def set_W1(self, W1):\n",
    "        \n",
    "        self.W1 = W1\n",
    "        \n",
    "    def set_W2(self, W2):\n",
    "        \n",
    "        self.W2 = W2    "
   ]
  },
  {
   "cell_type": "code",
   "execution_count": 7,
   "id": "3c6c8d7d",
   "metadata": {},
   "outputs": [],
   "source": [
    "p1 = Player(identifier=1, memory_capacity=3)\n",
    "p2 = Player(identifier=2, memory_capacity=3)"
   ]
  },
  {
   "cell_type": "code",
   "execution_count": 8,
   "id": "4d092c9f",
   "metadata": {},
   "outputs": [],
   "source": [
    "pm = [[(3,3), (1,5)], [(5,1), (2,2)]]\n",
    "game = PrisonersDilemma(payoff_matrix=pm)"
   ]
  },
  {
   "cell_type": "code",
   "execution_count": 9,
   "id": "55cbb3d9",
   "metadata": {},
   "outputs": [],
   "source": [
    "game.simulate(p1, p2, 10)"
   ]
  },
  {
   "cell_type": "code",
   "execution_count": 10,
   "id": "2de6a353",
   "metadata": {},
   "outputs": [
    {
     "name": "stdout",
     "output_type": "stream",
     "text": [
      "[1, 0, 0, 0, 0, 0, 0, 0, 0, 0]\n",
      "[1, 1, 1, 1, 1, 1, 1, 1, 1, 1]\n"
     ]
    }
   ],
   "source": [
    "print(p1.history)\n",
    "print(p2.history)"
   ]
  },
  {
   "cell_type": "code",
   "execution_count": 12,
   "id": "af88ad7b",
   "metadata": {},
   "outputs": [
    {
     "name": "stdout",
     "output_type": "stream",
     "text": [
      "[2, 5, 5, 5, 5, 5, 5, 5, 5, 5]\n"
     ]
    }
   ],
   "source": [
    "print(p2.rewards)"
   ]
  }
 ],
 "metadata": {
  "kernelspec": {
   "display_name": "Python 3 (ipykernel)",
   "language": "python",
   "name": "python3"
  },
  "language_info": {
   "codemirror_mode": {
    "name": "ipython",
    "version": 3
   },
   "file_extension": ".py",
   "mimetype": "text/x-python",
   "name": "python",
   "nbconvert_exporter": "python",
   "pygments_lexer": "ipython3",
   "version": "3.10.9"
  }
 },
 "nbformat": 4,
 "nbformat_minor": 5
}
